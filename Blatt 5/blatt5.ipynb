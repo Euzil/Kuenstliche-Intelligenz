{
 "cells": [
  {
   "cell_type": "code",
   "execution_count": 1,
   "id": "15a17723",
   "metadata": {},
   "outputs": [],
   "source": [
    "from sklearn.datasets import fetch_openml\n",
    "from sklearn.model_selection import train_test_split\n",
    "from sklearn.neighbors import KNeighborsClassifier\n",
    "from sklearn.metrics import f1_score, accuracy_score, roc_auc_score, average_precision_score\n",
    "from sklearn.preprocessing import StandardScaler\n",
    "import pandas as pd\n",
    "import matplotlib.pyplot as plt\n",
    "import seaborn as sns\n",
    "from sklearn.neighbors import KNeighborsClassifier\n"
   ]
  },
  {
   "cell_type": "code",
   "execution_count": 87,
   "id": "6cc47761",
   "metadata": {},
   "outputs": [],
   "source": [
    "# Laden des Diabetes Dataset\n",
    "X, y = fetch_openml(data_id=37, as_frame=True, return_X_y=True)"
   ]
  },
  {
   "cell_type": "code",
   "execution_count": null,
   "id": "7ca7204f",
   "metadata": {},
   "outputs": [],
   "source": []
  },
  {
   "cell_type": "code",
   "execution_count": 88,
   "id": "33b9b48c",
   "metadata": {},
   "outputs": [],
   "source": [
    "# Klassenlabels in 0 und 1 umwandeln (Positiv = 1)\n",
    "# TODO\n",
    "y = y.map({\n",
    "    \"tested_positive\": 1,\n",
    "    \"tested_negative\": 0\n",
    "})\n",
    "\n"
   ]
  },
  {
   "cell_type": "code",
   "execution_count": 65,
   "id": "0ba090b5",
   "metadata": {},
   "outputs": [
    {
     "name": "stdout",
     "output_type": "stream",
     "text": [
      "0      1\n",
      "1      0\n",
      "2      1\n",
      "3      0\n",
      "4      1\n",
      "      ..\n",
      "763    0\n",
      "764    0\n",
      "765    0\n",
      "766    1\n",
      "767    0\n",
      "Name: class, Length: 768, dtype: category\n",
      "Categories (2, int64): [0, 1]\n"
     ]
    }
   ],
   "source": [
    "print(y)"
   ]
  },
  {
   "cell_type": "code",
   "execution_count": 66,
   "id": "1fb1911b",
   "metadata": {},
   "outputs": [
    {
     "data": {
      "text/plain": [
       "<AxesSubplot:ylabel='Count'>"
      ]
     },
     "execution_count": 66,
     "metadata": {},
     "output_type": "execute_result"
    },
    {
     "data": {
      "image/png": "[encoded data removed]",
      "text/plain": [
       "<Figure size 432x288 with 1 Axes>"
      ]
     },
     "metadata": {
      "needs_background": "light"
     },
     "output_type": "display_data"
    }
   ],
   "source": [
    "# Plot der Verteilung der Feature\n",
    "# TODO\n",
    "sns.histplot(X)"
   ]
  },
  {
   "cell_type": "code",
   "execution_count": 67,
   "id": "d31ca1d0",
   "metadata": {},
   "outputs": [
    {
     "data": {
      "text/plain": [
       "<AxesSubplot:xlabel='class', ylabel='Count'>"
      ]
     },
     "execution_count": 67,
     "metadata": {},
     "output_type": "execute_result"
    },
    {
     "data": {
      "image/png": "[encoded data removed]",
      "text/plain": [
       "<Figure size 432x288 with 1 Axes>"
      ]
     },
     "metadata": {
      "needs_background": "light"
     },
     "output_type": "display_data"
    }
   ],
   "source": [
    "# Plot der Klassen-Verteilung\n",
    "# TODO\n",
    "sns.histplot(y)"
   ]
  },
  {
   "cell_type": "code",
   "execution_count": 89,
   "id": "3e3b6a41",
   "metadata": {},
   "outputs": [],
   "source": [
    "# Daten skalieren\n",
    "# TODO\n",
    "scaler = StandardScaler()\n",
    "scaler.fit(X)\n",
    "X = scaler.transform(X)\n",
    "\n",
    "\n"
   ]
  },
  {
   "cell_type": "code",
   "execution_count": null,
   "id": "29e1c61f",
   "metadata": {},
   "outputs": [],
   "source": []
  },
  {
   "cell_type": "code",
   "execution_count": 90,
   "id": "bbc00893",
   "metadata": {},
   "outputs": [],
   "source": [
    "# Trainings-Test-Split\n",
    "X_train, X_test, y_train, y_test = train_test_split(X, y, test_size = 0.20, random_state=42)"
   ]
  },
  {
   "cell_type": "code",
   "execution_count": 112,
   "id": "386dd60c",
   "metadata": {
    "scrolled": true
   },
   "outputs": [],
   "source": [
    "# Trainieren über verschiedene Nachbarschaften von 1-200\n",
    "# Tracken der Metriken: F1, Accuarcy, AUPRC und AUROC\n",
    "# TODO\n",
    "classifiers = [KNeighborsClassifier(n_neighbors=n) for n in range(1, 201)]\n",
    "\n",
    "\n",
    "sum = 0\n",
    "\n",
    "scores = []\n",
    "\n",
    "f1 = []\n",
    "roc_auc = []\n",
    "accuracy = []\n",
    "average_precision = []\n",
    "\n",
    "for classifier in classifiers:\n",
    "        classifier.fit(X_train, y_train)\n",
    "        y_pred = classifier.predict(X_test)\n",
    "        f1.append(f1_score(y_test, y_pred))\n",
    "        roc_auc.append(roc_auc_score(y_test, y_pred))\n",
    "        accuracy.append(accuracy_score(y_test, y_pred))\n",
    "        average_precision.append(average_precision_score(y_test, y_pred))\n",
    "\n",
    "\n",
    "\n",
    "\n",
    "\n"
   ]
  },
  {
   "cell_type": "code",
   "execution_count": 114,
   "id": "0443727e",
   "metadata": {},
   "outputs": [
    {
     "data": {
      "text/plain": [
       "[0.4587155963302752,\n",
       " 0.345679012345679,\n",
       " 0.5490196078431372,\n",
       " 0.4470588235294118,\n",
       " 0.5294117647058822,\n",
       " 0.5,\n",
       " 0.5242718446601942,\n",
       " 0.5,\n",
       " 0.5420560747663552,\n",
       " 0.5050505050505051,\n",
       " 0.5925925925925926,\n",
       " 0.5742574257425742,\n",
       " 0.5849056603773585,\n",
       " 0.5742574257425742,\n",
       " 0.5825242718446602,\n",
       " 0.5894736842105263,\n",
       " 0.6199999999999999,\n",
       " 0.6170212765957446,\n",
       " 0.6185567010309277,\n",
       " 0.5934065934065934,\n",
       " 0.6185567010309277,\n",
       " 0.6105263157894736,\n",
       " 0.6122448979591837,\n",
       " 0.5714285714285714,\n",
       " 0.5833333333333334,\n",
       " 0.5806451612903225,\n",
       " 0.6105263157894736,\n",
       " 0.5934065934065934,\n",
       " 0.6105263157894736,\n",
       " 0.5842696629213483,\n",
       " 0.6021505376344085,\n",
       " 0.5617977528089887,\n",
       " 0.5869565217391305,\n",
       " 0.5934065934065934,\n",
       " 0.6021505376344085,\n",
       " 0.6,\n",
       " 0.6153846153846153,\n",
       " 0.5842696629213483,\n",
       " 0.5934065934065934,\n",
       " 0.5909090909090909,\n",
       " 0.6,\n",
       " 0.5842696629213483,\n",
       " 0.6105263157894736,\n",
       " 0.6,\n",
       " 0.608695652173913,\n",
       " 0.5934065934065934,\n",
       " 0.608695652173913,\n",
       " 0.6,\n",
       " 0.6153846153846153,\n",
       " 0.6,\n",
       " 0.6153846153846153,\n",
       " 0.5842696629213483,\n",
       " 0.5934065934065934,\n",
       " 0.5617977528089887,\n",
       " 0.5934065934065934,\n",
       " 0.5777777777777778,\n",
       " 0.5934065934065934,\n",
       " 0.5842696629213483,\n",
       " 0.6,\n",
       " 0.5842696629213483,\n",
       " 0.6,\n",
       " 0.6,\n",
       " 0.6,\n",
       " 0.6,\n",
       " 0.6,\n",
       " 0.6067415730337079,\n",
       " 0.6,\n",
       " 0.5909090909090909,\n",
       " 0.6,\n",
       " 0.6,\n",
       " 0.5934065934065934,\n",
       " 0.6,\n",
       " 0.6,\n",
       " 0.5842696629213483,\n",
       " 0.6153846153846153,\n",
       " 0.6,\n",
       " 0.6153846153846153,\n",
       " 0.6,\n",
       " 0.6153846153846153,\n",
       " 0.5909090909090909,\n",
       " 0.608695652173913,\n",
       " 0.5842696629213483,\n",
       " 0.5934065934065934,\n",
       " 0.5813953488372092,\n",
       " 0.6136363636363636,\n",
       " 0.6136363636363636,\n",
       " 0.6136363636363636,\n",
       " 0.5813953488372092,\n",
       " 0.5909090909090909,\n",
       " 0.6046511627906976,\n",
       " 0.6046511627906976,\n",
       " 0.6046511627906976,\n",
       " 0.6046511627906976,\n",
       " 0.6046511627906976,\n",
       " 0.6046511627906976,\n",
       " 0.6046511627906976,\n",
       " 0.5977011494252874,\n",
       " 0.5977011494252874,\n",
       " 0.5977011494252874,\n",
       " 0.5977011494252874,\n",
       " 0.5977011494252874,\n",
       " 0.5647058823529413,\n",
       " 0.5813953488372092,\n",
       " 0.5542168674698795,\n",
       " 0.5714285714285714,\n",
       " 0.5542168674698795,\n",
       " 0.5714285714285714,\n",
       " 0.5783132530120482,\n",
       " 0.5783132530120482,\n",
       " 0.5609756097560975,\n",
       " 0.5783132530120482,\n",
       " 0.5609756097560975,\n",
       " 0.5609756097560975,\n",
       " 0.5432098765432098,\n",
       " 0.5432098765432098,\n",
       " 0.5063291139240507,\n",
       " 0.5063291139240507,\n",
       " 0.5063291139240507,\n",
       " 0.5063291139240507,\n",
       " 0.4871794871794872,\n",
       " 0.5063291139240507,\n",
       " 0.5063291139240507,\n",
       " 0.5250000000000001,\n",
       " 0.5063291139240507,\n",
       " 0.5063291139240507,\n",
       " 0.4473684210526316,\n",
       " 0.4871794871794872,\n",
       " 0.4675324675324675,\n",
       " 0.46153846153846156,\n",
       " 0.4675324675324675,\n",
       " 0.4810126582278481,\n",
       " 0.4871794871794872,\n",
       " 0.5063291139240507,\n",
       " 0.4675324675324675,\n",
       " 0.4871794871794872,\n",
       " 0.4473684210526316,\n",
       " 0.46153846153846156,\n",
       " 0.4473684210526316,\n",
       " 0.4473684210526316,\n",
       " 0.4266666666666667,\n",
       " 0.4675324675324675,\n",
       " 0.4054054054054054,\n",
       " 0.4266666666666667,\n",
       " 0.38356164383561636,\n",
       " 0.38356164383561636,\n",
       " 0.3611111111111111,\n",
       " 0.38356164383561636,\n",
       " 0.3611111111111111,\n",
       " 0.37837837837837834,\n",
       " 0.3611111111111111,\n",
       " 0.38356164383561636,\n",
       " 0.3611111111111111,\n",
       " 0.37837837837837834,\n",
       " 0.38356164383561636,\n",
       " 0.37837837837837834,\n",
       " 0.38356164383561636,\n",
       " 0.37837837837837834,\n",
       " 0.3611111111111111,\n",
       " 0.38356164383561636,\n",
       " 0.3611111111111111,\n",
       " 0.3611111111111111,\n",
       " 0.3611111111111111,\n",
       " 0.3611111111111111,\n",
       " 0.3611111111111111,\n",
       " 0.3611111111111111,\n",
       " 0.3380281690140845,\n",
       " 0.3380281690140845,\n",
       " 0.34285714285714286,\n",
       " 0.3380281690140845,\n",
       " 0.3380281690140845,\n",
       " 0.3611111111111111,\n",
       " 0.34285714285714286,\n",
       " 0.3380281690140845,\n",
       " 0.3380281690140845,\n",
       " 0.3380281690140845,\n",
       " 0.34285714285714286,\n",
       " 0.34285714285714286,\n",
       " 0.34285714285714286,\n",
       " 0.34285714285714286,\n",
       " 0.34285714285714286,\n",
       " 0.34285714285714286,\n",
       " 0.34782608695652173,\n",
       " 0.34782608695652173,\n",
       " 0.34782608695652173,\n",
       " 0.34782608695652173,\n",
       " 0.34782608695652173,\n",
       " 0.34782608695652173,\n",
       " 0.3235294117647059,\n",
       " 0.3235294117647059,\n",
       " 0.2985074626865672,\n",
       " 0.2985074626865672,\n",
       " 0.2985074626865672,\n",
       " 0.3235294117647059,\n",
       " 0.2985074626865672,\n",
       " 0.3235294117647059,\n",
       " 0.3235294117647059,\n",
       " 0.3235294117647059,\n",
       " 0.2985074626865672,\n",
       " 0.3235294117647059,\n",
       " 0.2985074626865672]"
      ]
     },
     "execution_count": 114,
     "metadata": {},
     "output_type": "execute_result"
    }
   ],
   "source": [
    "f1"
   ]
  },
  {
   "cell_type": "code",
   "execution_count": 124,
   "id": "8632ef64",
   "metadata": {},
   "outputs": [
    {
     "name": "stdout",
     "output_type": "stream",
     "text": [
      "0.6199999999999999\n",
      "0.7792207792207793\n",
      "0.7151515151515152\n",
      "0.5847926267281106\n"
     ]
    },
    {
     "data": {
      "image/png": "[encoded data removed]",
      "text/plain": [
       "<Figure size 487x360 with 1 Axes>"
      ]
     },
     "metadata": {
      "needs_background": "light"
     },
     "output_type": "display_data"
    }
   ],
   "source": [
    "# Plotten der Metriken über die Nachbarschaftsgröße k\n",
    "foo = pd.DataFrame({\n",
    "    \"f1\": f1,\n",
    "    \"accuracy\" : accuracy,\n",
    "    \"roc_auc\" : roc_auc,\n",
    "    \"average_precision\" : average_precision,\n",
    "\n",
    "})\n",
    "sns.relplot(data=foo)\n",
    "\n",
    "print(max(f1))\n",
    "print(max(accuracy))\n",
    "print(max(roc_auc))\n",
    "print(max(average_precision))"
   ]
  },
  {
   "cell_type": "code",
   "execution_count": null,
   "id": "f8043698",
   "metadata": {},
   "outputs": [],
   "source": []
  },
  {
   "cell_type": "markdown",
   "id": "5f93be45",
   "metadata": {},
   "source": [
    "# Diskussion\n",
    "Ab in etwa dem k-Wert 30 erreichen wir auf allen Metriken ein Plateau.\n",
    "Unsere Maximalwerte für F1, Accuracy, AUROC, AUPRC liegen bei jeweils:\n",
    "```\n",
    "0.6199999999999999\n",
    "0.7792207792207793\n",
    "0.7151515151515152\n",
    "0.5847926267281106\n",
    "```\n",
    "Für k-Werte größer 100 verzeichnen wir einen stetigen Abfall im Score.\n",
    "\n",
    "Es ist also am sinnvollsten, nur Nachbarn der Anzahl zwischen 30 und 100 zu betrachten.\n"
   ]
  }
 ],
 "metadata": {
  "interpreter": {
   "hash": "a42ccb73e7d9bfdf27e036f1d2b8b681e55fc0743cc5586bc2474d4a60f4b886"
  },
  "kernelspec": {
   "display_name": "Python 3.10.4 64-bit",
   "language": "python",
   "name": "python3"
  },
  "language_info": {
   "codemirror_mode": {
    "name": "ipython",
    "version": 3
   },
   "file_extension": ".py",
   "mimetype": "text/x-python",
   "name": "python",
   "nbconvert_exporter": "python",
   "pygments_lexer": "ipython3",
   "version": "3.10.4"
  }
 },
 "nbformat": 4,
 "nbformat_minor": 5
}
