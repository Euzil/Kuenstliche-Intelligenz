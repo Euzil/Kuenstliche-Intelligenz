{
 "cells": [
  {
   "cell_type": "code",
   "execution_count": null,
   "id": "e773a170",
   "metadata": {},
   "outputs": [],
   "source": [
    "import numpy as np\n",
    "import pandas as pd"
   ]
  },
  {
   "cell_type": "code",
   "execution_count": null,
   "id": "0210d5f0",
   "metadata": {},
   "outputs": [
    {
     "ename": "",
     "evalue": "",
     "output_type": "error",
     "traceback": [
      "\u001b[1;31mPython 3.9.7 ('base') 需要安装 ipykernel。\n",
      "Run the following command to install 'ipykernel' into the Python environment. \n",
      "Command: 'conda install -n base ipykernel --update-deps --force-reinstall'"
     ]
    }
   ],
   "source": [
    "def create_DP(items_dataframe, capacity):\n",
    "    #TODO\n",
    "    shape = (len(items_dataframe['weight'])+1, capacity+1)\n",
    "    DP = np.zeros(shape)\n",
    "    for y in range(1, shape[0]):\n",
    "        k = 0\n",
    "        currentItemWeight = items_dataframe['weight'][y-1]\n",
    "        currentItemValue = items_dataframe['value'][y-1] \n",
    "        for x in range(shape[1]):\n",
    "            valueTop =      DP[y-1][x]\n",
    "            valueBefore =   DP[y][x-1]\n",
    "\n",
    "            DP[y][x] = valueBefore\n",
    "            if (k + currentItemWeight) <= x:\n",
    "                DP[y][x] = DP[y-1][x-currentItemWeight] + currentItemValue\n",
    "                k = x\n",
    "\n",
    "            if valueTop > DP[y][x]:\n",
    "                DP[y][x] = valueTop\n",
    "                k = x\n",
    "\n",
    "            if x==currentItemWeight:\n",
    "                DP[y][x] = max(DP[y][x],currentItemValue)\n",
    "                \n",
    "    final_value = DP[y][x]\n",
    "    print(\"Wert der Beute: \", final_value)\n",
    "    return DP\n",
    "                "
   ]
  },
  {
   "cell_type": "code",
   "execution_count": null,
   "id": "be8d992a",
   "metadata": {},
   "outputs": [
    {
     "ename": "",
     "evalue": "",
     "output_type": "error",
     "traceback": [
      "\u001b[1;31mPython 3.9.7 ('base') 需要安装 ipykernel。\n",
      "Run the following command to install 'ipykernel' into the Python environment. \n",
      "Command: 'conda install -n base ipykernel --update-deps --force-reinstall'"
     ]
    }
   ],
   "source": [
    "def backtrack(DP, items_dataframe):\n",
    "    selected_items = []\n",
    "    (n, m) = DP.shape\n",
    "    n -= 1\n",
    "    m -= 1\n",
    "\n",
    "    while n > 0:\n",
    "        currentValue = DP[n][m]\n",
    "        topValue = DP[n-1][m]\n",
    "        \n",
    "        if topValue < currentValue:\n",
    "            selected_items.append(n-1)\n",
    "            while m>0:\n",
    "                leftValue = DP[n][m-1]\n",
    "                if leftValue < currentValue:\n",
    "                    break\n",
    "                m -= 1\n",
    "\n",
    "        n -= 1\n",
    "\n",
    "            \n",
    "    return selected_items[::-1]"
   ]
  },
  {
   "cell_type": "code",
   "execution_count": null,
   "id": "243ff030",
   "metadata": {},
   "outputs": [
    {
     "ename": "",
     "evalue": "",
     "output_type": "error",
     "traceback": [
      "\u001b[1;31mPython 3.9.7 ('base') 需要安装 ipykernel。\n",
      "Run the following command to install 'ipykernel' into the Python environment. \n",
      "Command: 'conda install -n base ipykernel --update-deps --force-reinstall'"
     ]
    }
   ],
   "source": [
    "capacity = 15\n",
    "names = [\"Mehl\",\"Hefe\",\"Sonnenblumenöl\",\"Benzin\",\"Nudeln\"] \n",
    "V = [5, 3, 7, 11, 6]\n",
    "W = [6, 3, 6, 11, 9]\n",
    "\n",
    "items = pd.DataFrame(list(zip(names,V,W)),columns=[\"name\",\"value\",\"weight\"])"
   ]
  },
  {
   "cell_type": "code",
   "execution_count": null,
   "id": "6cbb325d",
   "metadata": {},
   "outputs": [
    {
     "ename": "",
     "evalue": "",
     "output_type": "error",
     "traceback": [
      "\u001b[1;31mPython 3.9.7 ('base') 需要安装 ipykernel。\n",
      "Run the following command to install 'ipykernel' into the Python environment. \n",
      "Command: 'conda install -n base ipykernel --update-deps --force-reinstall'"
     ]
    }
   ],
   "source": [
    "DP = create_DP(items, capacity)\n",
    "items_selected = backtrack(DP, items)\n",
    "\n",
    "print(DP)\n",
    "print(\"Diese Güter wurden genommen: \\n\", items.loc[items_selected,\"name\"].values)"
   ]
  }
 ],
 "metadata": {
  "interpreter": {
   "hash": "369f2c481f4da34e4445cda3fffd2e751bd1c4d706f27375911949ba6bb62e1c"
  },
  "kernelspec": {
   "display_name": "Python 3.10.2 64-bit",
   "language": "python",
   "name": "python3"
  },
  "language_info": {
   "codemirror_mode": {
    "name": "ipython",
    "version": 3
   },
   "file_extension": ".py",
   "mimetype": "text/x-python",
   "name": "python",
   "nbconvert_exporter": "python",
   "pygments_lexer": "ipython3",
   "version": "3.10.4"
  }
 },
 "nbformat": 4,
 "nbformat_minor": 5
}
